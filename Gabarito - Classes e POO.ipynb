{
 "cells": [
  {
   "cell_type": "markdown",
   "id": "72721608",
   "metadata": {},
   "source": [
    "### Criando classes"
   ]
  },
  {
   "cell_type": "code",
   "execution_count": 1,
   "id": "43e865b8",
   "metadata": {},
   "outputs": [],
   "source": [
    "class MinhaClasse():\n",
    "    pass"
   ]
  },
  {
   "cell_type": "code",
   "execution_count": 2,
   "id": "1ee70130",
   "metadata": {},
   "outputs": [],
   "source": [
    "class MinhaClasse():\n",
    "    def metodo():\n",
    "        pass"
   ]
  },
  {
   "cell_type": "code",
   "execution_count": 4,
   "id": "2933ff80",
   "metadata": {},
   "outputs": [],
   "source": [
    "class MinhaClasse():\n",
    "    atributo = \"valor\"\n",
    "    def metodo():\n",
    "        pass"
   ]
  },
  {
   "cell_type": "code",
   "execution_count": null,
   "id": "3f6fdcc0",
   "metadata": {},
   "outputs": [],
   "source": [
    "class MinhaClasse():\n",
    "    def __init__(self):\n",
    "        self.atributo = \"valor\"\n",
    "    def metodo(self):\n",
    "        pass"
   ]
  },
  {
   "cell_type": "markdown",
   "id": "b51e29d9",
   "metadata": {},
   "source": [
    "### Exemplo simples"
   ]
  },
  {
   "cell_type": "code",
   "execution_count": 8,
   "id": "cbe066ab",
   "metadata": {},
   "outputs": [],
   "source": [
    "class Vendedor():\n",
    "    def __init__(self, nome):\n",
    "        self.nome = nome\n",
    "        self.vendas = 0\n",
    "        self.bonus = 0\n",
    "    def vendeu(self, quantidade):\n",
    "        self.vendas = quantidade\n",
    "    def calcular_bonus(self, meta):\n",
    "        if self.vendas > meta:\n",
    "            self.bonus = self.vendas * 0.01\n",
    "        else:\n",
    "            self.bonus = 0"
   ]
  },
  {
   "cell_type": "code",
   "execution_count": 10,
   "id": "a29e86a0",
   "metadata": {},
   "outputs": [
    {
     "name": "stdout",
     "output_type": "stream",
     "text": [
      "Lira 0 0\n"
     ]
    }
   ],
   "source": [
    "vendedor1 = Vendedor(\"Lira\")\n",
    "print(vendedor1.nome, vendedor1.vendas, vendedor1.bonus)"
   ]
  },
  {
   "cell_type": "code",
   "execution_count": 11,
   "id": "7369f23f",
   "metadata": {},
   "outputs": [
    {
     "name": "stdout",
     "output_type": "stream",
     "text": [
      "Lira 1000 10.0\n"
     ]
    }
   ],
   "source": [
    "vendedor1.vendeu(1000)\n",
    "vendedor1.calcular_bonus(500)\n",
    "print(vendedor1.nome, vendedor1.vendas, vendedor1.bonus)"
   ]
  },
  {
   "cell_type": "markdown",
   "id": "5cabe7c8",
   "metadata": {},
   "source": [
    "### Refatorando um código para POO"
   ]
  },
  {
   "cell_type": "code",
   "execution_count": 13,
   "id": "fad537dc",
   "metadata": {},
   "outputs": [
    {
     "name": "stdout",
     "output_type": "stream",
     "text": [
      "Collecting pyautogui\n",
      "  Using cached PyAutoGUI-0.9.53-py3-none-any.whl\n",
      "Collecting PyTweening>=1.0.1\n",
      "  Using cached pytweening-1.0.4-py3-none-any.whl\n",
      "Collecting mouseinfo\n",
      "  Using cached MouseInfo-0.1.3-py3-none-any.whl\n",
      "Collecting pygetwindow>=0.0.5\n",
      "  Using cached PyGetWindow-0.0.9-py3-none-any.whl\n",
      "Collecting pyscreeze>=0.1.21\n",
      "  Using cached PyScreeze-0.1.28-py3-none-any.whl\n",
      "Collecting pymsgbox\n",
      "  Using cached PyMsgBox-1.0.9-py3-none-any.whl\n",
      "Collecting pyrect\n",
      "  Using cached PyRect-0.2.0-py2.py3-none-any.whl\n",
      "Collecting pyperclip\n",
      "  Using cached pyperclip-1.8.2-py3-none-any.whl\n",
      "Installing collected packages: PyTweening, pyscreeze, pyrect, pyperclip, pymsgbox, pygetwindow, mouseinfo, pyautogui\n",
      "Successfully installed PyTweening-1.0.4 mouseinfo-0.1.3 pyautogui-0.9.53 pygetwindow-0.0.9 pymsgbox-1.0.9 pyperclip-1.8.2 pyrect-0.2.0 pyscreeze-0.1.28\n"
     ]
    }
   ],
   "source": [
    "!pip install pyautogui"
   ]
  },
  {
   "cell_type": "code",
   "execution_count": null,
   "id": "a5b01138",
   "metadata": {},
   "outputs": [],
   "source": [
    "import pyautogui\n",
    "import pyperclip\n",
    "import time\n",
    "\n",
    "# abrindo o chrome\n",
    "pyautogui.PAUSE = 1\n",
    "pyautogui.press(\"win\")\n",
    "pyautogui.write(\"chrome\")\n",
    "pyautogui.press(\"enter\")\n",
    "\n",
    "# entrando no site da hashtag\n",
    "link = \"https://www.hashtagtreinamentos.com/blog\"\n",
    "pyperclip.copy(link)\n",
    "pyautogui.hotkey(\"ctrl\", \"v\")\n",
    "pyautogui.press(\"enter\")\n",
    "\n",
    "# aguardar\n",
    "time.sleep(3)\n",
    "\n",
    "# clicando no campo de busca\n",
    "pyautogui.click(x=1508, y=585)\n",
    "\n",
    "# pesquisando campo de busca\n",
    "texto = \"classe\"\n",
    "pyperclip.copy(texto)\n",
    "pyautogui.hotkey(\"ctrl\", \"v\")\n",
    "pyautogui.press(\"enter\")\n",
    "\n",
    "# aguardar\n",
    "time.sleep(3)\n",
    "\n",
    "# clicar na imagem\n",
    "pyautogui.click(x=749, y=699)\n",
    "\n",
    "# aguardar\n",
    "time.sleep(3)\n",
    "\n",
    "# extrair o link\n",
    "pyautogui.click(x=390, y=789, button=\"right\")\n",
    "pyautogui.press(\"up\")\n",
    "pyautogui.press(\"up\")\n",
    "pyautogui.press(\"enter\")\n",
    "\n",
    "# printar o texto copiado\n",
    "texto = pyperclip.paste()\n",
    "print(texto)"
   ]
  },
  {
   "cell_type": "code",
   "execution_count": 24,
   "id": "0bc6a26d",
   "metadata": {},
   "outputs": [
    {
     "name": "stdout",
     "output_type": "stream",
     "text": [
      "pegando posicao em 5 segundos\n",
      "pegando posicao em 4 segundos\n",
      "pegando posicao em 3 segundos\n",
      "pegando posicao em 2 segundos\n",
      "pegando posicao em 1 segundos\n",
      "Point(x=471, y=721)\n"
     ]
    }
   ],
   "source": [
    "# pegando a posicao de um elemento\n",
    "for i in range(5):\n",
    "    print(f\"pegando posicao em {5 - i} segundos\")\n",
    "    time.sleep(1)\n",
    "    \n",
    "print(pyautogui.position())"
   ]
  },
  {
   "cell_type": "markdown",
   "id": "2aa65343",
   "metadata": {},
   "source": [
    "### Refatorando com classe"
   ]
  },
  {
   "cell_type": "code",
   "execution_count": 43,
   "id": "75cf4940",
   "metadata": {},
   "outputs": [],
   "source": [
    "import time\n",
    "import pyautogui\n",
    "import pyperclip\n",
    "\n",
    "class Controlador():\n",
    "    def __init__(self):\n",
    "        pyautogui.PAUSE = 1\n",
    "    def abrir_programa(self, nome_programa):\n",
    "        pyautogui.press(\"win\")\n",
    "        pyautogui.write(nome_programa)\n",
    "        pyautogui.press(\"enter\")\n",
    "    def escrever(self, texto):\n",
    "        pyperclip.copy(texto)\n",
    "        pyautogui.hotkey(\"ctrl\", \"v\")\n",
    "    def escrever_e_enter(self, texto):\n",
    "        self.escrever(texto)\n",
    "        pyautogui.press(\"enter\")\n",
    "    def entrar_site(self, site, espera=3):\n",
    "        self.escrever_e_enter(site)\n",
    "        self.aguardar(espera)\n",
    "    def aguardar(self, tempo=3):\n",
    "        time.sleep(tempo)\n",
    "    def clicar(self, pos_x, pos_y, botao=\"left\"):\n",
    "        pyautogui.click(pos_x, pos_y, button=botao)\n",
    "    def pegar_posicao(self):\n",
    "        for i in range(5):\n",
    "            print(f\"pegando posicao em {5 - i} segundos\")\n",
    "            time.sleep(1)\n",
    "        print(pyautogui.position())\n",
    "    def extrair_link(self, pos_x, pos_y, posicao_link_menu=2):\n",
    "        self.clicar(pos_x, pos_y, botao=\"right\")\n",
    "        for i in range(posicao_link_menu):\n",
    "            pyautogui.press(\"up\")\n",
    "        pyautogui.press(\"enter\")\n",
    "        texto = pyperclip.paste()\n",
    "        print(texto)"
   ]
  },
  {
   "cell_type": "code",
   "execution_count": 44,
   "id": "80879bce",
   "metadata": {},
   "outputs": [
    {
     "name": "stdout",
     "output_type": "stream",
     "text": [
      "https://youtube.com/hashtagprograma%C3%A7%C3%A3o\n"
     ]
    }
   ],
   "source": [
    "controlador = Controlador()\n",
    "controlador.abrir_programa(\"chrome\")\n",
    "controlador.entrar_site(\"https://www.hashtagtreinamentos.com/blog\")\n",
    "controlador.clicar(1469, 589)\n",
    "controlador.escrever_e_enter(\"classe\")\n",
    "controlador.aguardar()\n",
    "controlador.clicar(749, 699)\n",
    "controlador.aguardar()\n",
    "controlador.extrair_link(390, 789)"
   ]
  },
  {
   "cell_type": "code",
   "execution_count": 39,
   "id": "4e1ad54b",
   "metadata": {},
   "outputs": [
    {
     "name": "stdout",
     "output_type": "stream",
     "text": [
      "pegando posicao em 5 segundos\n",
      "pegando posicao em 4 segundos\n",
      "pegando posicao em 3 segundos\n",
      "pegando posicao em 2 segundos\n",
      "pegando posicao em 1 segundos\n",
      "Point(x=805, y=674)\n"
     ]
    }
   ],
   "source": [
    "controlador.pegar_posicao()"
   ]
  },
  {
   "cell_type": "code",
   "execution_count": null,
   "id": "92164d9a",
   "metadata": {},
   "outputs": [],
   "source": []
  }
 ],
 "metadata": {
  "kernelspec": {
   "display_name": "Python 3 (ipykernel)",
   "language": "python",
   "name": "python3"
  },
  "language_info": {
   "codemirror_mode": {
    "name": "ipython",
    "version": 3
   },
   "file_extension": ".py",
   "mimetype": "text/x-python",
   "name": "python",
   "nbconvert_exporter": "python",
   "pygments_lexer": "ipython3",
   "version": "3.9.13"
  }
 },
 "nbformat": 4,
 "nbformat_minor": 5
}
